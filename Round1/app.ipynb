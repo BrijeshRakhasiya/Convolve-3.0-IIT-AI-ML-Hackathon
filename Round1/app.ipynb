{
 "cells": [
  {
   "cell_type": "code",
   "execution_count": 1,
   "metadata": {},
   "outputs": [
    {
     "name": "stderr",
     "output_type": "stream",
     "text": [
      "d:\\Coding Software\\Anaconda\\anaconda\\Lib\\site-packages\\sklearn\\impute\\_base.py:577: UserWarning: Skipping features without any observed values: ['bureau_436' 'bureau_447']. At least one non-missing value is needed for imputation with strategy='mean'.\n",
      "  warnings.warn(\n"
     ]
    },
    {
     "name": "stdout",
     "output_type": "stream",
     "text": [
      "AUC Score: 0.7488292556122014\n"
     ]
    },
    {
     "name": "stderr",
     "output_type": "stream",
     "text": [
      "d:\\Coding Software\\Anaconda\\anaconda\\Lib\\site-packages\\sklearn\\impute\\_base.py:577: UserWarning: Skipping features without any observed values: ['bureau_436' 'bureau_447']. At least one non-missing value is needed for imputation with strategy='mean'.\n",
      "  warnings.warn(\n"
     ]
    },
    {
     "name": "stdout",
     "output_type": "stream",
     "text": [
      "Predictions saved to 'validation_predictions.csv'\n"
     ]
    }
   ],
   "source": [
    "import pandas as pd\n",
    "import numpy as np\n",
    "from sklearn.model_selection import train_test_split\n",
    "from sklearn.preprocessing import StandardScaler\n",
    "from sklearn.linear_model import LogisticRegression\n",
    "from sklearn.metrics import roc_auc_score, roc_curve, accuracy_score\n",
    "from sklearn.impute import SimpleImputer\n",
    "\n",
    "# Step 1: Load the development data\n",
    "dev_data = pd.read_csv('Dev_data_to_be_shared.csv')\n",
    "\n",
    "# Separate features and target variable\n",
    "X = dev_data.drop(columns=['account_number', 'bad_flag'])\n",
    "y = dev_data['bad_flag']\n",
    "\n",
    "# Step 2: Preprocess the data\n",
    "# Handle missing values\n",
    "imputer = SimpleImputer(strategy='mean')\n",
    "X_imputed = imputer.fit_transform(X)\n",
    "\n",
    "# Standardize the data\n",
    "scaler = StandardScaler()\n",
    "X_scaled = scaler.fit_transform(X_imputed)\n",
    "\n",
    "# Step 3: Split the data into training and testing sets\n",
    "X_train, X_test, y_train, y_test = train_test_split(X_scaled, y, test_size=0.2, random_state=42)\n",
    "\n",
    "# Step 4: Train a logistic regression model\n",
    "model = LogisticRegression(random_state=42, max_iter=500)\n",
    "model.fit(X_train, y_train)\n",
    "\n",
    "# Step 5: Evaluate the model on the test set\n",
    "y_pred_prob = model.predict_proba(X_test)[:, 1]\n",
    "auc_score = roc_auc_score(y_test, y_pred_prob)\n",
    "print(f\"AUC Score: {auc_score}\")\n",
    "\n",
    "# Step 6: Load the validation data\n",
    "validation_data = pd.read_csv('validation_data_to_be_shared.csv')\n",
    "validation_account_numbers = validation_data['account_number']\n",
    "X_validation = validation_data.drop(columns=['account_number'])\n",
    "\n",
    "# Preprocess the validation data\n",
    "X_validation_imputed = imputer.transform(X_validation)\n",
    "X_validation_scaled = scaler.transform(X_validation_imputed)\n",
    "\n",
    "# Step 7: Predict probabilities on the validation data\n",
    "validation_pred_prob = model.predict_proba(X_validation_scaled)[:, 1]\n",
    "\n",
    "# Step 8: Save predictions to a CSV file\n",
    "output = pd.DataFrame({\n",
    "    'account_number': validation_account_numbers,\n",
    "    'predicted_probability': validation_pred_prob\n",
    "})\n",
    "output.to_csv('validation_predictions.csv', index=False)\n",
    "\n",
    "print(\"Predictions saved to 'validation_predictions.csv'\")"
   ]
  },
  {
   "cell_type": "code",
   "execution_count": null,
   "metadata": {},
   "outputs": [],
   "source": []
  }
 ],
 "metadata": {
  "kernelspec": {
   "display_name": "base",
   "language": "python",
   "name": "python3"
  },
  "language_info": {
   "codemirror_mode": {
    "name": "ipython",
    "version": 3
   },
   "file_extension": ".py",
   "mimetype": "text/x-python",
   "name": "python",
   "nbconvert_exporter": "python",
   "pygments_lexer": "ipython3",
   "version": "3.12.4"
  }
 },
 "nbformat": 4,
 "nbformat_minor": 2
}
